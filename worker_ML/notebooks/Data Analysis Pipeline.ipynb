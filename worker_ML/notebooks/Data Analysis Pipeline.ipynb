{
 "cells": [
  {
   "cell_type": "markdown",
   "metadata": {},
   "source": [
    "# Presentation of the Python Analysis Pipeline\n",
    "This work book presents the three steps of the analysis pipeline from fetching blogposts in the database to analyzing the content."
   ]
  },
  {
   "cell_type": "code",
   "execution_count": 3,
   "metadata": {},
   "outputs": [
    {
     "name": "stdout",
     "output_type": "stream",
     "text": [
      "X:\\husser\\Code\\Python\\NeuralNetworks\nThe autoreload extension is already loaded. To reload it, use:\n  %reload_ext autoreload\n"
     ]
    }
   ],
   "source": [
    "import sys\n",
    "from os import getcwd, chdir\n",
    "from os.path import split\n",
    "currdir = split(getcwd())\n",
    "if currdir[1]== \"Notebooks\":chdir(currdir[0])\n",
    "print getcwd()\n",
    "%load_ext autoreload\n",
    "%autoreload 2"
   ]
  },
  {
   "cell_type": "markdown",
   "metadata": {},
   "source": [
    "## 1. Fetching data \n",
    "The analyzed data is fetched from a sample sqlite database"
   ]
  },
  {
   "cell_type": "code",
   "execution_count": 4,
   "metadata": {},
   "outputs": [
    {
     "ename": "ImportError",
     "evalue": "No module named core.scraper",
     "output_type": "error",
     "traceback": [
      "\u001b[1;31m---------------------------------------------------------------------------\u001b[0m",
      "\u001b[1;31mImportError\u001b[0m                               Traceback (most recent call last)",
      "\u001b[1;32m<ipython-input-4-dcf523cc0c24>\u001b[0m in \u001b[0;36m<module>\u001b[1;34m()\u001b[0m\n\u001b[0;32m      1\u001b[0m \u001b[1;32mfrom\u001b[0m \u001b[0msqlalchemy\u001b[0m\u001b[1;33m.\u001b[0m\u001b[0morm\u001b[0m \u001b[1;32mimport\u001b[0m \u001b[0msessionmaker\u001b[0m\u001b[1;33m\u001b[0m\u001b[0m\n\u001b[0;32m      2\u001b[0m \u001b[1;32mfrom\u001b[0m \u001b[0msqlalchemy\u001b[0m \u001b[1;32mimport\u001b[0m \u001b[0mcreate_engine\u001b[0m\u001b[1;33m\u001b[0m\u001b[0m\n\u001b[1;32m----> 3\u001b[1;33m \u001b[1;32mfrom\u001b[0m \u001b[0mcore\u001b[0m\u001b[1;33m.\u001b[0m\u001b[0mscraper\u001b[0m \u001b[1;32mimport\u001b[0m \u001b[0mmodels\u001b[0m\u001b[1;33m\u001b[0m\u001b[0m\n\u001b[0m\u001b[0;32m      4\u001b[0m \u001b[1;32mimport\u001b[0m \u001b[0mnumpy\u001b[0m \u001b[1;32mas\u001b[0m \u001b[0mnp\u001b[0m\u001b[1;33m\u001b[0m\u001b[0m\n\u001b[0;32m      5\u001b[0m \u001b[1;32mimport\u001b[0m \u001b[0mpandas\u001b[0m \u001b[1;32mas\u001b[0m \u001b[0mpd\u001b[0m\u001b[1;33m\u001b[0m\u001b[0m\n",
      "\u001b[1;31mImportError\u001b[0m: No module named core.scraper"
     ]
    }
   ],
   "source": [
    "from sqlalchemy.orm import sessionmaker\n",
    "from sqlalchemy import create_engine\n",
    "from core.scraper import models\n",
    "import numpy as np\n",
    "import pandas as pd\n",
    "DATABASE_CONNECT = \"sqlite:///data/scrape.sqlite\"\n",
    "N_ARTICLES = 25"
   ]
  },
  {
   "cell_type": "code",
   "execution_count": 8,
   "metadata": {},
   "outputs": [],
   "source": [
    "engine = create_engine(DATABASE_CONNECT)\n",
    "DBSession = sessionmaker()\n",
    "DBSession.configure(bind = engine)\n",
    "session = DBSession()\n",
    "corpus = session.query(models.WebArticle).limit(N_ARTICLES)\n",
    "posts = np.array([[i.Title,i.Body] for i in corpus])"
   ]
  },
  {
   "cell_type": "code",
   "execution_count": 9,
   "metadata": {},
   "outputs": [
    {
     "data": {
      "text/html": [
       "<div>\n",
       "<table border=\"1\" class=\"dataframe\">\n",
       "  <thead>\n",
       "    <tr style=\"text-align: right;\">\n",
       "      <th></th>\n",
       "      <th>Title</th>\n",
       "      <th>Body</th>\n",
       "    </tr>\n",
       "  </thead>\n",
       "  <tbody>\n",
       "    <tr>\n",
       "      <th>0</th>\n",
       "      <td>Grèce : ce qui bloque encore</td>\n",
       "      <td>La Grèce et ses créanciers (Fonds monétaire in...</td>\n",
       "    </tr>\n",
       "    <tr>\n",
       "      <th>1</th>\n",
       "      <td>Auto à bas prix : l'histoire se poursuit</td>\n",
       "      <td>Concevoir une voiture bon marché n'a rien d'un...</td>\n",
       "    </tr>\n",
       "    <tr>\n",
       "      <th>2</th>\n",
       "      <td>En Espagne, Podemos inquiète les entreprises</td>\n",
       "      <td>Quatre années ont passé depuis le temps où les...</td>\n",
       "    </tr>\n",
       "    <tr>\n",
       "      <th>3</th>\n",
       "      <td>Vivendi et Orange lorgnent Telecom Italia</td>\n",
       "      <td>C’est une phrase prononcée comme ça, au détour...</td>\n",
       "    </tr>\n",
       "    <tr>\n",
       "      <th>4</th>\n",
       "      <td>L’oud envoûtant d’Anouar Brahem</td>\n",
       "      <td>Il a osé. Malgré les écueils et les doutes. Le...</td>\n",
       "    </tr>\n",
       "  </tbody>\n",
       "</table>\n",
       "</div>"
      ]
     },
     "output_type": "execute_result",
     "metadata": {}
    }
   ],
   "source": [
    "corpus = pd.DataFrame(posts, columns=[\"Title\",\"Body\"])\n",
    "corpus.head()"
   ]
  },
  {
   "cell_type": "markdown",
   "metadata": {},
   "source": [
    "## 2. Text Vectorization\n",
    "The text vectorization is operated with the Scikit-Learn framework.\n",
    "Further programming: use the Hadoop ecosystem for parallel processing"
   ]
  },
  {
   "cell_type": "code",
   "execution_count": 10,
   "metadata": {},
   "outputs": [],
   "source": [
    "from sklearn.feature_extraction.text import TfidfVectorizer"
   ]
  },
  {
   "cell_type": "code",
   "execution_count": 24,
   "metadata": {},
   "outputs": [],
   "source": [
    "PARAMETERS_VECTORIZER = {\n",
    "    \"vocabulary\":None,\n",
    "    \"ngram_range\":(1,3),\n",
    "    \"max_df\":0.8,\n",
    "    \"min_df\":3,\n",
    "    \"encoding\" : \"utf-8\",\n",
    "    \"strip_accents\" : 'ascii',\n",
    "    \"norm\":'l2',}"
   ]
  },
  {
   "cell_type": "code",
   "execution_count": 25,
   "metadata": {},
   "outputs": [
    {
     "data": {
      "text/plain": [
       "<25x444 sparse matrix of type '<type 'numpy.float64'>'\n",
       "\twith 2166 stored elements in Compressed Sparse Row format>"
      ]
     },
     "execution_count": 25,
     "output_type": "execute_result",
     "metadata": {}
    }
   ],
   "source": [
    "vectorizer = TfidfVectorizer(**PARAMETERS_VECTORIZER)\n",
    "vectorizer.fit_transform(posts[:,1])"
   ]
  },
  {
   "cell_type": "code",
   "execution_count": 43,
   "metadata": {},
   "outputs": [
    {
     "name": "stdout",
     "output_type": "stream",
     "text": [
      "No of articles:\t25\n",
      "No of features:\t444\n"
     ]
    }
   ],
   "source": [
    "tfidf = vectorizer.fit_transform(posts[:,1]).toarray()\n",
    "print(\"No of articles:\\t%d\\nNo of features:\\t%d\"%tfidf.shape)"
   ]
  },
  {
   "cell_type": "markdown",
   "metadata": {},
   "source": [
    "In order to keep track of the article data, the list of features is also extracted"
   ]
  },
  {
   "cell_type": "code",
   "execution_count": 44,
   "metadata": {},
   "outputs": [
    {
     "data": {
      "text/plain": [
       "'scene'"
      ]
     },
     "execution_count": 44,
     "output_type": "execute_result",
     "metadata": {}
    }
   ],
   "source": [
    "vocabulary = np.array(vectorizer.vocabulary_.items(), dtype=(\"a18,i4\"))\n",
    "df = pd.DataFrame(vocabulary)\n",
    "words = pd.Series(df.f0, index=pd.Index(df.f1))\n",
    "words[50]"
   ]
  },
  {
   "cell_type": "markdown",
   "metadata": {},
   "source": [
    "## 3. SOM Analysis\n",
    "The SOM Mapper takes the tfidf matrix and performs the mapping from the input space (high dimensional) into the 2D output space"
   ]
  },
  {
   "cell_type": "code",
   "execution_count": 68,
   "metadata": {},
   "outputs": [],
   "source": [
    "from core.som import som"
   ]
  },
  {
   "cell_type": "code",
   "execution_count": 69,
   "metadata": {},
   "outputs": [],
   "source": [
    "PARAMETERS_SOM = {\n",
    "    \"kshape\" : (10,10),\n",
    "    \"n_iter\" : 150,\n",
    "    \"learning_rate\" : 0.01,\n",
    "    \"initialization_func\" : None,\n",
    "    \"topology\" : \"rect\"}"
   ]
  },
  {
   "cell_type": "code",
   "execution_count": 70,
   "metadata": {},
   "outputs": [],
   "source": [
    "mapper = som.SOMMapper(**PARAMETERS_SOM)"
   ]
  },
  {
   "cell_type": "code",
   "execution_count": 71,
   "metadata": {},
   "outputs": [],
   "source": [
    "kohonen = mapper.fit_transform(tfidf)"
   ]
  },
  {
   "cell_type": "code",
   "execution_count": 72,
   "metadata": {},
   "outputs": [
    {
     "data": {
      "text/plain": [
       "array([[ 0.07406778,  0.03076218,  0.00454896, ...,  0.03582369,\n",
       "         0.02660959,  0.00959145],\n",
       "       [ 0.07015325,  0.03120137,  0.00285738, ...,  0.02885604,\n",
       "         0.02197417,  0.00903481],\n",
       "       [ 0.05724074,  0.03618747,  0.00675572, ...,  0.02711527,\n",
       "         0.02901932,  0.01200897],\n",
       "       ..., \n",
       "       [ 0.00697336,  0.02343737,  0.01063956, ...,  0.01031934,\n",
       "         0.00173255,  0.00390416],\n",
       "       [ 0.0115377 ,  0.02660159,  0.01152986, ...,  0.01037489,\n",
       "         0.00312459,  0.00322342],\n",
       "       [ 0.01176909,  0.03013724,  0.01148132, ...,  0.00982748,\n",
       "         0.00850772,  0.00566853]])"
      ]
     },
     "execution_count": 72,
     "output_type": "execute_result",
     "metadata": {}
    }
   ],
   "source": [
    "kohonen"
   ]
  },
  {
   "cell_type": "code",
   "execution_count": 73,
   "metadata": {},
   "outputs": [],
   "source": [
    "articlesNodes = mapper.predict(tfidf)"
   ]
  },
  {
   "cell_type": "code",
   "execution_count": 74,
   "metadata": {},
   "outputs": [
    {
     "data": {
      "text/plain": [
       "25"
      ]
     },
     "execution_count": 74,
     "output_type": "execute_result",
     "metadata": {}
    }
   ],
   "source": [
    "len(articlesNodes)"
   ]
  },
  {
   "cell_type": "code",
   "execution_count": 75,
   "metadata": {},
   "outputs": [
    {
     "name": "stdout",
     "output_type": "stream",
     "text": [
      "Quand l’ONU, gage de paix dans le monde, recourt à des mercenaires\n",
      "C’est une dérive passée inaperçue, mais qui commence à poser problème : pour défendre ses troupes dans des zones dangereuses, l’ONU a de plus en plus \n"
     ]
    }
   ],
   "source": [
    "id = 15\n",
    "print corpus.ix[id].Title\n",
    "print corpus.ix[id].Body[:150]"
   ]
  },
  {
   "cell_type": "code",
   "execution_count": 76,
   "metadata": {},
   "outputs": [
    {
     "name": "stdout",
     "output_type": "stream",
     "text": [
      "Best matching unit [59  9 93  1  9 63  9 13 40 40  5 20 80 79 39 96 99  5 77 42 75 45 28 80 47]\n",
      "Best features: [ 86  28 361 413 327 318 284  72 388  52 310 193 210 137 313 157 199 115\n",
      "  45 326]\n",
      "Best frequencies: [ 0.161845    0.11118024  0.10218823  0.09936342  0.09782284  0.08851\n",
      "  0.0871634   0.08255868  0.08180177  0.07786587]\n"
     ]
    }
   ],
   "source": [
    "bmu = mapper.predict(tfidf)\n",
    "neuron = kohonen[bmu[0],:]\n",
    "best_features = np.argsort(neuron)[::-1][:20]\n",
    "print \"Best matching unit\", bmu\n",
    "print \"Best features:\",best_features\n",
    "print \"Best frequencies:\",neuron[best_features[:10]]"
   ]
  },
  {
   "cell_type": "code",
   "execution_count": 77,
   "metadata": {},
   "outputs": [
    {
     "data": {
      "text/plain": [
       "['decide',\n",
       " 'peuvent',\n",
       " 'la montee',\n",
       " 'on',\n",
       " 'plus tot',\n",
       " 'joue',\n",
       " 'paris et',\n",
       " 'coalition',\n",
       " 'general',\n",
       " 'sur les',\n",
       " 'chefs',\n",
       " 'uvre',\n",
       " 'est un',\n",
       " 'mai',\n",
       " 'electorale',\n",
       " 'par une',\n",
       " 'la semaine',\n",
       " 'passe',\n",
       " 'devant',\n",
       " 'en france']"
      ]
     },
     "execution_count": 77,
     "output_type": "execute_result",
     "metadata": {}
    }
   ],
   "source": [
    "words[best_features].values.tolist()"
   ]
  },
  {
   "cell_type": "code",
   "execution_count": 82,
   "metadata": {},
   "outputs": [
    {
     "name": "stdout",
     "output_type": "stream",
     "text": [
      "(array([ 0,  1,  2,  3,  4,  5,  6,  7,  8,  9, 10, 11, 12, 13, 14, 15, 16,\n",
      "       17, 18, 19, 20, 21, 22, 23, 24], dtype=int64),)\n",
      "best matching unit [59  9 93  1  9 63  9 13 40 40  5 20 80 79 39 96 99  5 77 42 75 45 28 80 47]\n"
     ]
    }
   ],
   "source": [
    "close_articles = np.where(np.abs(articlesNodes-bmu)<1)\n",
    "print close_articles\n",
    "print \"best matching unit\", bmu"
   ]
  },
  {
   "cell_type": "code",
   "execution_count": 83,
   "metadata": {},
   "outputs": [
    {
     "name": "stdout",
     "output_type": "stream",
     "text": [
      "[59  9 93  1  9 63  9 13 40 40  5 20 80 79 39 96 99  5 77 42 75 45 28 80 47]\n",
      "0                          Grèce : ce qui bloque encore\n",
      "1              Auto à bas prix : l'histoire se poursuit\n",
      "2          En Espagne, Podemos inquiète les entreprises\n",
      "3             Vivendi et Orange lorgnent Telecom Italia\n",
      "4                       L’oud envoûtant d’Anouar Brahem\n",
      "5                                  Jeanne la Berlinoise\n",
      "6     Le numéro 2 du Medef cède à la mode du crowdfu...\n",
      "7          « Nous sommes en guerre, et pour longtemps »\n",
      "8        Singapour a désormais sa Pinacothèque de Paris\n",
      "9                                 Sur le pied de guerre\n",
      "10    La mauvaise culture économique des Français pa...\n",
      "11                    Le couple à l’épreuve de l’argent\n",
      "12    La perspective d’une cession de Findus mobilis...\n",
      "13     Les enjeux des élections législatives en Turquie\n",
      "14    Etat islamique : la stratégie dévastatrice des...\n",
      "15    Quand l’ONU, gage de paix dans le monde, recou...\n",
      "16    Les élections seront-elles l’étincelle qui met...\n",
      "17               Ces « vieux » peintres avant-gardistes\n",
      "18    La commémoration du massacre de Tian’anmen res...\n",
      "19          Les Chedid, à eux quatre, tout un orchestre\n",
      "20                     Anarchie vaincra (sur le papier)\n",
      "21                        Despentes en gants de velours\n",
      "22              Synchrotron : vers le microscope ultime\n",
      "23    Expérimentation animale : la Commission europé...\n",
      "24    50 Best Restaurants, un classement à bout de s...\n",
      "Name: Title, dtype: object\n",
      "0     La Grèce et ses créanciers (Fonds monétaire in...\n",
      "1     Concevoir une voiture bon marché n'a rien d'un...\n",
      "2     Quatre années ont passé depuis le temps où les...\n",
      "3     C’est une phrase prononcée comme ça, au détour...\n",
      "4     Il a osé. Malgré les écueils et les doutes. Le...\n",
      "5     C’était un matin ensoleillé, à Vienne, deux jo...\n",
      "6     Le crowdfunding s’institutionnalise. Geoffroy ...\n",
      "7     Ancien directeur de l’Ecole de guerre, le géné...\n",
      "8     Après cinq ans de négociations et dix-huit moi...\n",
      "9     C’est l’antienne répétée par nombre de comment...\n",
      "10    Entre le chômage, la précarité croissante, et ...\n",
      "11    Champagne, cotillons, mairie… l’an dernier, 24...\n",
      "12    L’avenir de l’usine Findus de Boulogne-sur-Mer...\n",
      "13    Ce dimanche 7 juin, les électeurs turcs sont a...\n",
      "14    Plus qu’un hommage aux djihadistes de l’Etat i...\n",
      "15    C’est une dérive passée inaperçue, mais qui co...\n",
      "16    Tous les éléments d’une confrontation violente...\n",
      "17    Quoi de commun entre le ­succès triomphal de l...\n",
      "18    Tous les ans, depuis la nuit fatale du 3 au 4 ...\n",
      "19    En novembre 2014, le Palais omnisports de Pari...\n",
      "20    L’anarchisme ne cesse de renaître. Ses défaite...\n",
      "21    Tous les scénaristes de séries télévisées vous...\n",
      "22    Francesco Sette, directeur général de l’Europe...\n",
      "23    Une fin de non-recevoir, assortie de quelques ...\n",
      "24    La 14e édition du classement gastronomique est...\n",
      "Name: Body, dtype: object\n"
     ]
    }
   ],
   "source": [
    "for i in close_articles:\n",
    "    print mapper.predict(tfidf[i,:])\n",
    "    print corpus.ix[i].Title\n",
    "    print corpus.ix[i].Body[:200]"
   ]
  },
  {
   "cell_type": "markdown",
   "metadata": {},
   "source": [
    "## 4. Clustering\n",
    "Clustering is operated by the K-means algorithm"
   ]
  },
  {
   "cell_type": "code",
   "execution_count": 259,
   "metadata": {},
   "outputs": [],
   "source": [
    "from sklearn.cluster import KMeans"
   ]
  },
  {
   "cell_type": "code",
   "execution_count": 260,
   "metadata": {},
   "outputs": [],
   "source": [
    "n_clusters = 5\n",
    "PARAMETERS_KMEANS = {\n",
    "    \"n_clusters\": n_clusters,\n",
    "    \"init\": 'k-means++',\n",
    "    \"max_iter\":100,\n",
    "    \"n_init\":10}"
   ]
  },
  {
   "cell_type": "code",
   "execution_count": 261,
   "metadata": {},
   "outputs": [],
   "source": [
    "km = KMeans(**PARAMETERS_KMEANS)"
   ]
  },
  {
   "cell_type": "code",
   "execution_count": 262,
   "metadata": {},
   "outputs": [
    {
     "data": {
      "text/plain": [
       "KMeans(copy_x=True, init='k-means++', max_iter=100, n_clusters=5, n_init=10,\n",
       "    n_jobs=1, precompute_distances='auto', random_state=None, tol=0.0001,\n",
       "    verbose=0)"
      ]
     },
     "execution_count": 262,
     "output_type": "execute_result",
     "metadata": {}
    }
   ],
   "source": [
    "km.fit(kohonen)"
   ]
  },
  {
   "cell_type": "code",
   "execution_count": 263,
   "metadata": {},
   "outputs": [],
   "source": [
    "nodesClusters = km.predict(kohonen)\n",
    "clusters = km.cluster_centers_"
   ]
  },
  {
   "cell_type": "code",
   "execution_count": 264,
   "metadata": {},
   "outputs": [
    {
     "name": "stdout",
     "output_type": "stream",
     "text": [
      "Top terms per cluster:\n",
      "Cluster 0:\n",
      "['entre', 'contre', 'moins', 'pays', 'meme', 'par les', 'premiere', 'nouveau', 'peut']\n",
      "\n",
      "Cluster 1:\n",
      "['moins', 'premiere', 'contre', 'notamment', 'sur la', 'pays', 'plusieurs', 'par les', 'monde']\n",
      "\n",
      "Cluster 2:\n",
      "['sur la', 'moins', 'et de', 'meme', 'monde', 'peut', 'contre', 'plusieurs', 'par les']\n",
      "\n",
      "Cluster 3:\n",
      "['contre', 'et le', 'sur la', 'meme', 'que les', 'ne', 'etait', 'moins', 'avant']\n",
      "\n",
      "Cluster 4:\n",
      "['que', 'contre', 'par les', 'fin', 'dune', 'leur', 'plusieurs', 'nouveau', 'monde']\n",
      "\n"
     ]
    }
   ],
   "source": [
    "print(\"Top terms per cluster:\")\n",
    "order_centroids = clusters.argsort()[:, ::-1]\n",
    "terms = vectorizer.get_feature_names()\n",
    "for i in range(n_clusters):\n",
    "    print(\"Cluster %d:\" % i)\n",
    "    print [words[ind] for ind in order_centroids[i,:10-1]]\n",
    "    print"
   ]
  },
  {
   "cell_type": "code",
   "execution_count": null,
   "metadata": {},
   "outputs": [],
   "source": [
    ""
   ]
  }
 ],
 "metadata": {
  "kernelspec": {
   "display_name": "Python 2",
   "language": "python",
   "name": "python2"
  },
  "language_info": {
   "codemirror_mode": {
    "name": "ipython",
    "version": 2.0
   },
   "file_extension": ".py",
   "mimetype": "text/x-python",
   "name": "python",
   "nbconvert_exporter": "python",
   "pygments_lexer": "ipython2",
   "version": "2.7.10"
  }
 },
 "nbformat": 4,
 "nbformat_minor": 0
}