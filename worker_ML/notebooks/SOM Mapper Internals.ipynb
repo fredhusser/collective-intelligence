{
 "cells": [
  {
   "cell_type": "markdown",
   "metadata": {},
   "source": [
    "# Internals of the SOM Mapper\n",
    "This notebook presents the algorithm for SOM mapping and shows the profiling of the code."
   ]
  },
  {
   "cell_type": "markdown",
   "metadata": {},
   "source": [
    "## Initialization\n",
    "Getting a start corpus of text data"
   ]
  },
  {
   "cell_type": "code",
   "execution_count": 1,
   "metadata": {
    "collapsed": false
   },
   "outputs": [
    {
     "name": "stdout",
     "output_type": "stream",
     "text": [
      "/vagrant/worker_ML/notebooks\n"
     ]
    }
   ],
   "source": [
    "import sys\n",
    "from os import getcwd, chdir\n",
    "from os.path import split\n",
    "currdir = split(getcwd())\n",
    "if currdir[1]== \"Notebooks\":chdir(currdir[0])\n",
    "print getcwd()\n",
    "%load_ext autoreload\n",
    "%autoreload 2"
   ]
  },
  {
   "cell_type": "code",
   "execution_count": 2,
   "metadata": {
    "collapsed": false
   },
   "outputs": [
    {
     "ename": "ImportError",
     "evalue": "No module named line_profiler",
     "output_type": "error",
     "traceback": [
      "\u001b[1;31m---------------------------------------------------------------------------\u001b[0m",
      "\u001b[1;31mImportError\u001b[0m                               Traceback (most recent call last)",
      "\u001b[1;32m<ipython-input-2-be9d6ddcaf0f>\u001b[0m in \u001b[0;36m<module>\u001b[1;34m()\u001b[0m\n\u001b[1;32m----> 1\u001b[1;33m \u001b[1;32mimport\u001b[0m \u001b[0mline_profiler\u001b[0m\u001b[1;33m\u001b[0m\u001b[0m\n\u001b[0m\u001b[0;32m      2\u001b[0m \u001b[1;32mimport\u001b[0m \u001b[0mmemory_profiler\u001b[0m\u001b[1;33m\u001b[0m\u001b[0m\n\u001b[0;32m      3\u001b[0m \u001b[1;32mimport\u001b[0m \u001b[0mIPython\u001b[0m\u001b[1;33m\u001b[0m\u001b[0m\n\u001b[0;32m      4\u001b[0m \u001b[0mip\u001b[0m \u001b[1;33m=\u001b[0m \u001b[0mIPython\u001b[0m\u001b[1;33m.\u001b[0m\u001b[0mget_ipython\u001b[0m\u001b[1;33m(\u001b[0m\u001b[1;33m)\u001b[0m\u001b[1;33m\u001b[0m\u001b[0m\n\u001b[0;32m      5\u001b[0m \u001b[0mip\u001b[0m\u001b[1;33m.\u001b[0m\u001b[0mdefine_magic\u001b[0m\u001b[1;33m(\u001b[0m\u001b[1;34m'lprun'\u001b[0m\u001b[1;33m,\u001b[0m \u001b[0mline_profiler\u001b[0m\u001b[1;33m.\u001b[0m\u001b[0mmagic_lprun\u001b[0m\u001b[1;33m)\u001b[0m\u001b[1;33m\u001b[0m\u001b[0m\n",
      "\u001b[1;31mImportError\u001b[0m: No module named line_profiler"
     ]
    }
   ],
   "source": [
    "import line_profiler\n",
    "import memory_profiler\n",
    "import IPython\n",
    "ip = IPython.get_ipython()\n",
    "ip.define_magic('lprun', line_profiler.magic_lprun)\n",
    "ip.define_magic('mprun', memory_profiler.magic_mprun)"
   ]
  },
  {
   "cell_type": "code",
   "execution_count": 3,
   "metadata": {
    "collapsed": true
   },
   "outputs": [],
   "source": [
    "from sqlalchemy.orm import sessionmaker\n",
    "from sqlalchemy import create_engine\n",
    "from core.scraper import models\n",
    "import numpy as np\n",
    "import pandas as pd\n",
    "DATABASE_CONNECT = \"sqlite:///data/scrape.sqlite\"\n",
    "N_ARTICLES = 100"
   ]
  },
  {
   "cell_type": "code",
   "execution_count": 4,
   "metadata": {
    "collapsed": false
   },
   "outputs": [
    {
     "data": {
      "text/html": [
       "<div>\n",
       "<table border=\"1\" class=\"dataframe\">\n",
       "  <thead>\n",
       "    <tr style=\"text-align: right;\">\n",
       "      <th></th>\n",
       "      <th>Title</th>\n",
       "      <th>Body</th>\n",
       "    </tr>\n",
       "  </thead>\n",
       "  <tbody>\n",
       "    <tr>\n",
       "      <th>0</th>\n",
       "      <td>Grèce : ce qui bloque encore</td>\n",
       "      <td>La Grèce et ses créanciers (Fonds monétaire in...</td>\n",
       "    </tr>\n",
       "    <tr>\n",
       "      <th>1</th>\n",
       "      <td>Auto à bas prix : l'histoire se poursuit</td>\n",
       "      <td>Concevoir une voiture bon marché n'a rien d'un...</td>\n",
       "    </tr>\n",
       "    <tr>\n",
       "      <th>2</th>\n",
       "      <td>En Espagne, Podemos inquiète les entreprises</td>\n",
       "      <td>Quatre années ont passé depuis le temps où les...</td>\n",
       "    </tr>\n",
       "    <tr>\n",
       "      <th>3</th>\n",
       "      <td>Vivendi et Orange lorgnent Telecom Italia</td>\n",
       "      <td>C’est une phrase prononcée comme ça, au détour...</td>\n",
       "    </tr>\n",
       "    <tr>\n",
       "      <th>4</th>\n",
       "      <td>L’oud envoûtant d’Anouar Brahem</td>\n",
       "      <td>Il a osé. Malgré les écueils et les doutes. Le...</td>\n",
       "    </tr>\n",
       "  </tbody>\n",
       "</table>\n",
       "</div>"
      ],
      "text/plain": [
       "                                          Title  \\\n",
       "0                  Grèce : ce qui bloque encore   \n",
       "1      Auto à bas prix : l'histoire se poursuit   \n",
       "2  En Espagne, Podemos inquiète les entreprises   \n",
       "3     Vivendi et Orange lorgnent Telecom Italia   \n",
       "4               L’oud envoûtant d’Anouar Brahem   \n",
       "\n",
       "                                                Body  \n",
       "0  La Grèce et ses créanciers (Fonds monétaire in...  \n",
       "1  Concevoir une voiture bon marché n'a rien d'un...  \n",
       "2  Quatre années ont passé depuis le temps où les...  \n",
       "3  C’est une phrase prononcée comme ça, au détour...  \n",
       "4  Il a osé. Malgré les écueils et les doutes. Le...  "
      ]
     },
     "execution_count": 4,
     "metadata": {},
     "output_type": "execute_result"
    }
   ],
   "source": [
    "engine = create_engine(DATABASE_CONNECT)\n",
    "DBSession = sessionmaker()\n",
    "DBSession.configure(bind = engine)\n",
    "session = DBSession()\n",
    "corpus = session.query(models.WebArticle).limit(N_ARTICLES)\n",
    "posts = np.array([[i.Title,i.Body] for i in corpus])\n",
    "corpus = pd.DataFrame(posts, columns=[\"Title\",\"Body\"])\n",
    "corpus.head()"
   ]
  },
  {
   "cell_type": "code",
   "execution_count": 5,
   "metadata": {
    "collapsed": true
   },
   "outputs": [],
   "source": [
    "from sklearn.feature_extraction.text import TfidfVectorizer\n",
    "PARAMETERS_VECTORIZER = {\n",
    "    \"vocabulary\":None,\n",
    "    \"ngram_range\":(1,3),\n",
    "    \"max_df\":0.8,\n",
    "    \"min_df\":0.2,\n",
    "    \"encoding\" : \"utf-8\",\n",
    "    \"strip_accents\" : 'ascii',\n",
    "    \"norm\":'l2',}"
   ]
  },
  {
   "cell_type": "code",
   "execution_count": 6,
   "metadata": {
    "collapsed": false
   },
   "outputs": [
    {
     "data": {
      "text/plain": [
       "<100x138 sparse matrix of type '<type 'numpy.float64'>'\n",
       "\twith 4816 stored elements in Compressed Sparse Row format>"
      ]
     },
     "execution_count": 6,
     "metadata": {},
     "output_type": "execute_result"
    }
   ],
   "source": [
    "vectorizer = TfidfVectorizer(**PARAMETERS_VECTORIZER)\n",
    "vectorizer.fit_transform(posts[:,1])"
   ]
  },
  {
   "cell_type": "code",
   "execution_count": 7,
   "metadata": {
    "collapsed": false
   },
   "outputs": [
    {
     "name": "stdout",
     "output_type": "stream",
     "text": [
      "No of articles:\t100\n",
      "No of features:\t138\n"
     ]
    }
   ],
   "source": [
    "tfidf = vectorizer.fit_transform(posts[:,1])\n",
    "print(\"No of articles:\\t%d\\nNo of features:\\t%d\"%tfidf.shape)"
   ]
  },
  {
   "cell_type": "markdown",
   "metadata": {},
   "source": [
    "## Testing the SOM Algorithm\n",
    "The algorithm relies on two steps: initialization of the Kohonen Matrix and training. We show the batch algorithm in that the update of the nodes is performed concurrently on all samples at each iteration"
   ]
  },
  {
   "cell_type": "code",
   "execution_count": 14,
   "metadata": {
    "collapsed": false
   },
   "outputs": [],
   "source": [
    "from core.som import SOMMapper as Map\n",
    "from core.som import som"
   ]
  },
  {
   "cell_type": "code",
   "execution_count": 15,
   "metadata": {
    "collapsed": false
   },
   "outputs": [],
   "source": [
    "mapper = Map(n_iter=100, kshape=[5,10])"
   ]
  },
  {
   "cell_type": "code",
   "execution_count": 16,
   "metadata": {
    "collapsed": false
   },
   "outputs": [
    {
     "name": "stdout",
     "output_type": "stream",
     "text": [
      "1 loops, best of 3: 637 ms per loop\n"
     ]
    }
   ],
   "source": [
    "%timeit kohonen = mapper.fit_transform(tfidf.toarray())"
   ]
  },
  {
   "cell_type": "code",
   "execution_count": 17,
   "metadata": {
    "collapsed": false
   },
   "outputs": [
    {
     "name": "stdout",
     "output_type": "stream",
     "text": [
      " "
     ]
    }
   ],
   "source": [
    "%prun kohonen = mapper.fit_transform(tfidf.toarray())"
   ]
  },
  {
   "cell_type": "code",
   "execution_count": 18,
   "metadata": {
    "collapsed": false
   },
   "outputs": [],
   "source": [
    "%lprun -f mapper.fit mapper.fit(tfidf.toarray())"
   ]
  },
  {
   "cell_type": "markdown",
   "metadata": {},
   "source": [
    "### Dense Algorithm\n",
    "In the dense algorithm we try to profile the following pseudo code:\n",
    "for iter in n_iter:\n",
    "    - compute_kernel\n",
    "    - for i in n_samples:\n",
    "        for j in n_nodes:\n",
    "            deltas = X[i]-K[j,:]*infl\n",
    "        batch_deltas += deltas\n",
    "    kohonen += batch_deltas"
   ]
  },
  {
   "cell_type": "code",
   "execution_count": 31,
   "metadata": {
    "collapsed": false
   },
   "outputs": [],
   "source": [
    "from core.som.som import _fast_unfold_kernel\n",
    "from core.som.som import _compute_influence_kernel\n",
    "from core.som.som import _node_to_coordinate\n",
    "import numpy as np\n",
    "from scipy import sparse"
   ]
  },
  {
   "cell_type": "code",
   "execution_count": 32,
   "metadata": {
    "collapsed": true
   },
   "outputs": [],
   "source": [
    "%matplotlib inline\n",
    "%load_ext Cython"
   ]
  },
  {
   "cell_type": "code",
   "execution_count": 33,
   "metadata": {
    "collapsed": true
   },
   "outputs": [],
   "source": [
    "from sklearn.preprocessing import Normalizer\n",
    "from sklearn.utils.extmath import fast_dot"
   ]
  },
  {
   "cell_type": "code",
   "execution_count": 34,
   "metadata": {
    "collapsed": true
   },
   "outputs": [],
   "source": [
    "def init_kohonen(n_nodes, n_features):\n",
    "    kohonen = np.random.rand(n_nodes, n_features)\n",
    "    return kohonen\n",
    "\n",
    "def init_sample(X):\n",
    "    if sparse.isspmatrix(X): X=X.todense()\n",
    "    return np.array(X)"
   ]
  },
  {
   "cell_type": "code",
   "execution_count": 24,
   "metadata": {
    "collapsed": true
   },
   "outputs": [],
   "source": [
    "def get_bmu(KN, y):\n",
    "    d = np.sum((KN-y)**2, axis=1)\n",
    "    loc = np.argmin(d)\n",
    "    qe = np.sqrt(d[loc])\n",
    "    #similarity = fast_dot(normalized_Kohonen, y.T)\n",
    "    #loc = np.argmax(similarity)\n",
    "    #qe = similarity[loc]\n",
    "    return loc, qe"
   ]
  },
  {
   "cell_type": "code",
   "execution_count": 43,
   "metadata": {
    "collapsed": false
   },
   "outputs": [
    {
     "name": "stderr",
     "output_type": "stream",
     "text": [
      "warning: X:\\Winpython\\WinPython-64bit-2.7.10.2\\settings\\.ipython\\cython\\_cython_magic_d3f588e9dca653587839198a802fa30b.pyx:15:17: local variable 'distances' referenced before assignment\n",
      "warning: X:\\Winpython\\WinPython-64bit-2.7.10.2\\settings\\.ipython\\cython\\_cython_magic_d3f588e9dca653587839198a802fa30b.pyx:17:21: local variable 'distances' referenced before assignment\n",
      "warning: X:\\Winpython\\WinPython-64bit-2.7.10.2\\settings\\.ipython\\cython\\_cython_magic_d3f588e9dca653587839198a802fa30b.pyx:19:36: local variable 'distances' referenced before assignment\n",
      "warning: X:\\Winpython\\WinPython-64bit-2.7.10.2\\settings\\.ipython\\cython\\_cython_magic_d3f588e9dca653587839198a802fa30b.pyx:23:25: local variable 'distances' referenced before assignment\n"
     ]
    }
   ],
   "source": [
    "%%cython\n",
    "import cython\n",
    "import numpy as np\n",
    "cimport numpy as np\n",
    "ctypedef np.float64_t DOUBLE\n",
    "\n",
    "@cython.boundscheck(False)\n",
    "@cython.wraparound(False)\n",
    "@cython.cdivision(False)\n",
    "cpdef c_get_bmu(double[:,:] KN, double[:] y, Py_ssize_t n_nodes, Py_ssize_t n_features):\n",
    "    cdef:\n",
    "        double[:] distances\n",
    "        Py_ssize_t i,j,loc\n",
    "        \n",
    "    for i in cython.parallel.prange(n_nodes, nogil=True):\n",
    "        distances[i]=0.\n",
    "        for j in cython.parallel.prange(n_features):\n",
    "            distances[i] += (KN[i,j]-y[j])**2\n",
    "    \n",
    "    loc=np.argmin(np.array(distances, dtype=np.double))\n",
    "    #similarity = fast_dot(normalized_Kohonen, y.T)\n",
    "    #loc = np.argmax(similarity)\n",
    "    #qe = similarity[loc]\n",
    "    return loc, distances[loc]"
   ]
  },
  {
   "cell_type": "code",
   "execution_count": 38,
   "metadata": {
    "collapsed": false
   },
   "outputs": [],
   "source": [
    "%%cython\n",
    "import cython\n",
    "import numpy as np\n",
    "cimport numpy as np\n",
    "ctypedef np.float64_t DOUBLE\n",
    "\n",
    "@cython.boundscheck(False)\n",
    "@cython.wraparound(False)\n",
    "@cython.cdivision(False)\n",
    "cpdef cunfold_kernel(int x, y, np.ndarray[DOUBLE, ndim=2] kernel, int kx, ky):\n",
    "    cdef np.ndarray[DOUBLE, ndim=2] infl = np.empty((kx,ky), dtype=np.double)\n",
    "    infl[:x, :y] = kernel[x:0:-1, y:0:-1]\n",
    "    infl[:x, y:] = kernel[x:0:-1, :ky - y]\n",
    "    infl[x:, :y] = kernel[:kx - x, y:0:-1]\n",
    "    infl[x:, y:] = kernel[:kx - x, :ky - y]\n",
    "    return infl.flatten()"
   ]
  },
  {
   "cell_type": "code",
   "execution_count": 36,
   "metadata": {
    "collapsed": false
   },
   "outputs": [
    {
     "name": "stdout",
     "output_type": "stream",
     "text": [
      "The slowest run took 7.81 times longer than the fastest. This could mean that an intermediate result is being cached \n",
      "100000 loops, best of 3: 6.9 µs per loop\n",
      "100000 loops, best of 3: 4.97 µs per loop\n"
     ]
    }
   ],
   "source": [
    "kshape=[10,10]\n",
    "_dqd = np.fromfunction(lambda x,y: (x**2+y**2)**0.5,\n",
    "                                kshape, dtype='float')\n",
    "%timeit cunfold_kernel(5,9,_dqd,kshape[0], kshape[1])\n",
    "%timeit _fast_unfold_kernel(9,2,_dqd,kshape)"
   ]
  },
  {
   "cell_type": "code",
   "execution_count": 40,
   "metadata": {
    "collapsed": false
   },
   "outputs": [],
   "source": [
    "%%cython\n",
    "import cython\n",
    "import numpy as np\n",
    "cimport numpy as np\n",
    "ctypedef np.float64_t DOUBLE\n",
    "from cython.parallel import prange\n",
    "\n",
    "@cython.boundscheck(False)\n",
    "@cython.wraparound(False)\n",
    "cpdef csingle_unit_deltas(np.ndarray[DOUBLE, ndim=1] Xi, np.ndarray[DOUBLE, ndim=2] K,\n",
    "                         np.ndarray[DOUBLE, ndim=1] infl,int n_nodes, double infl_epsilon=0.01):\n",
    "    # Xi has shape = n_features\n",
    "    # Broadcast X[i]-K[j] for a given sample\n",
    "    cdef double[:,:] unit_delta = np.zeros((n_nodes,Xi.shape[0]), dtype=np.double)\n",
    "    cdef int j\n",
    "    for j in range(n_nodes):\n",
    "        if infl[j]>infl_epsilon:\n",
    "            unit_delta[j,:] = (Xi - K[j,:])*infl[j]\n",
    "    return unit_delta"
   ]
  },
  {
   "cell_type": "code",
   "execution_count": 41,
   "metadata": {
    "collapsed": false
   },
   "outputs": [],
   "source": [
    "%%cython\n",
    "import cython\n",
    "import numpy as np\n",
    "cimport numpy as np\n",
    "ctypedef np.float64_t DOUBLE\n",
    "from cython.parallel import prange\n",
    "\n",
    "@cython.boundscheck(False)\n",
    "@cython.wraparound(False)\n",
    "@cython.cdivision(False)\n",
    "cpdef parallel_single_unit_deltas(double[:] Xi, double[:,:] K,\n",
    "                                 double[:] infl, int n_nodes, double infl_epsilon=0.1):\n",
    "    cdef:\n",
    "        double[:,:] unit_delta = np.zeros((n_nodes,Xi.shape[0]), dtype=np.double)\n",
    "        int j, k, n_features=Xi.shape[0]\n",
    "    for j in prange(n_nodes, nogil=True):\n",
    "        if infl[j]>infl_epsilon:\n",
    "            for k in prange(n_features):\n",
    "                unit_delta[j,k] = (Xi[k] - K[j,k])*infl[j]\n",
    "    return unit_delta"
   ]
  },
  {
   "cell_type": "code",
   "execution_count": 42,
   "metadata": {
    "collapsed": false
   },
   "outputs": [],
   "source": [
    "def mask_single_unit_deltas(Xi, K,infl,n_nodes, infl_epsilon=0.1):\n",
    "    # Xi has shape = n_features\n",
    "    # Broadcast X[i]-K[j] for a given sample\n",
    "    mask=infl>infl_epsilon\n",
    "    unit_delta = np.zeros((n_nodes,Xi.shape[0]), dtype=np.double)\n",
    "    unit_delta[mask,:] = (Xi - K[mask,:])*infl[mask,np.newaxis]\n",
    "    return unit_delta\n",
    "\n"
   ]
  },
  {
   "cell_type": "code",
   "execution_count": 30,
   "metadata": {
    "collapsed": true
   },
   "outputs": [],
   "source": [
    "def single_unit_deltas(Xi, K,infl,n_nodes, infl_epsilon=0.5):\n",
    "    # Xi has shape = n_features\n",
    "    # Broadcast X[i]-K[j] for a given sample\n",
    "    return (Xi - K)*infl[:,np.newaxis]"
   ]
  },
  {
   "cell_type": "code",
   "execution_count": 33,
   "metadata": {
    "collapsed": false
   },
   "outputs": [
    {
     "name": "stdout",
     "output_type": "stream",
     "text": [
      "10000 loops, best of 3: 49.9 µs per loop\n",
      "10000 loops, best of 3: 28.1 µs per loop\n",
      "10000 loops, best of 3: 62.8 µs per loop\n"
     ]
    },
    {
     "ename": "TypeError",
     "evalue": "only length-1 arrays can be converted to Python scalars",
     "output_type": "error",
     "traceback": [
      "\u001b[1;31m---------------------------------------------------------------------------\u001b[0m",
      "\u001b[1;31mTypeError\u001b[0m                                 Traceback (most recent call last)",
      "\u001b[1;32m<ipython-input-33-74470df9978a>\u001b[0m in \u001b[0;36m<module>\u001b[1;34m()\u001b[0m\n\u001b[0;32m      7\u001b[0m \u001b[0mget_ipython\u001b[0m\u001b[1;33m(\u001b[0m\u001b[1;33m)\u001b[0m\u001b[1;33m.\u001b[0m\u001b[0mmagic\u001b[0m\u001b[1;33m(\u001b[0m\u001b[1;34mu'timeit parallel_single_unit_deltas(Xi,K,infl,n_nodes,eps)'\u001b[0m\u001b[1;33m)\u001b[0m\u001b[1;33m\u001b[0m\u001b[0m\n\u001b[0;32m      8\u001b[0m \u001b[0mget_ipython\u001b[0m\u001b[1;33m(\u001b[0m\u001b[1;33m)\u001b[0m\u001b[1;33m.\u001b[0m\u001b[0mmagic\u001b[0m\u001b[1;33m(\u001b[0m\u001b[1;34mu'timeit mask_single_unit_deltas(Xi,K,infl,n_nodes,eps)'\u001b[0m\u001b[1;33m)\u001b[0m\u001b[1;33m\u001b[0m\u001b[0m\n\u001b[1;32m----> 9\u001b[1;33m \u001b[0mget_ipython\u001b[0m\u001b[1;33m(\u001b[0m\u001b[1;33m)\u001b[0m\u001b[1;33m.\u001b[0m\u001b[0mmagic\u001b[0m\u001b[1;33m(\u001b[0m\u001b[1;34mu'timeit csingle_unit_deltas(Xi,K,infl,n_nodes,eps)'\u001b[0m\u001b[1;33m)\u001b[0m\u001b[1;33m\u001b[0m\u001b[0m\n\u001b[0m",
      "\u001b[1;32mX:\\Winpython\\WinPython-64bit-2.7.10.2\\python-2.7.10.amd64\\lib\\site-packages\\IPython\\core\\interactiveshell.pyc\u001b[0m in \u001b[0;36mmagic\u001b[1;34m(self, arg_s)\u001b[0m\n\u001b[0;32m   2305\u001b[0m         \u001b[0mmagic_name\u001b[0m\u001b[1;33m,\u001b[0m \u001b[0m_\u001b[0m\u001b[1;33m,\u001b[0m \u001b[0mmagic_arg_s\u001b[0m \u001b[1;33m=\u001b[0m \u001b[0marg_s\u001b[0m\u001b[1;33m.\u001b[0m\u001b[0mpartition\u001b[0m\u001b[1;33m(\u001b[0m\u001b[1;34m' '\u001b[0m\u001b[1;33m)\u001b[0m\u001b[1;33m\u001b[0m\u001b[0m\n\u001b[0;32m   2306\u001b[0m         \u001b[0mmagic_name\u001b[0m \u001b[1;33m=\u001b[0m \u001b[0mmagic_name\u001b[0m\u001b[1;33m.\u001b[0m\u001b[0mlstrip\u001b[0m\u001b[1;33m(\u001b[0m\u001b[0mprefilter\u001b[0m\u001b[1;33m.\u001b[0m\u001b[0mESC_MAGIC\u001b[0m\u001b[1;33m)\u001b[0m\u001b[1;33m\u001b[0m\u001b[0m\n\u001b[1;32m-> 2307\u001b[1;33m         \u001b[1;32mreturn\u001b[0m \u001b[0mself\u001b[0m\u001b[1;33m.\u001b[0m\u001b[0mrun_line_magic\u001b[0m\u001b[1;33m(\u001b[0m\u001b[0mmagic_name\u001b[0m\u001b[1;33m,\u001b[0m \u001b[0mmagic_arg_s\u001b[0m\u001b[1;33m)\u001b[0m\u001b[1;33m\u001b[0m\u001b[0m\n\u001b[0m\u001b[0;32m   2308\u001b[0m \u001b[1;33m\u001b[0m\u001b[0m\n\u001b[0;32m   2309\u001b[0m     \u001b[1;31m#-------------------------------------------------------------------------\u001b[0m\u001b[1;33m\u001b[0m\u001b[1;33m\u001b[0m\u001b[0m\n",
      "\u001b[1;32mX:\\Winpython\\WinPython-64bit-2.7.10.2\\python-2.7.10.amd64\\lib\\site-packages\\IPython\\core\\interactiveshell.pyc\u001b[0m in \u001b[0;36mrun_line_magic\u001b[1;34m(self, magic_name, line)\u001b[0m\n\u001b[0;32m   2226\u001b[0m                 \u001b[0mkwargs\u001b[0m\u001b[1;33m[\u001b[0m\u001b[1;34m'local_ns'\u001b[0m\u001b[1;33m]\u001b[0m \u001b[1;33m=\u001b[0m \u001b[0msys\u001b[0m\u001b[1;33m.\u001b[0m\u001b[0m_getframe\u001b[0m\u001b[1;33m(\u001b[0m\u001b[0mstack_depth\u001b[0m\u001b[1;33m)\u001b[0m\u001b[1;33m.\u001b[0m\u001b[0mf_locals\u001b[0m\u001b[1;33m\u001b[0m\u001b[0m\n\u001b[0;32m   2227\u001b[0m             \u001b[1;32mwith\u001b[0m \u001b[0mself\u001b[0m\u001b[1;33m.\u001b[0m\u001b[0mbuiltin_trap\u001b[0m\u001b[1;33m:\u001b[0m\u001b[1;33m\u001b[0m\u001b[0m\n\u001b[1;32m-> 2228\u001b[1;33m                 \u001b[0mresult\u001b[0m \u001b[1;33m=\u001b[0m \u001b[0mfn\u001b[0m\u001b[1;33m(\u001b[0m\u001b[1;33m*\u001b[0m\u001b[0margs\u001b[0m\u001b[1;33m,\u001b[0m\u001b[1;33m**\u001b[0m\u001b[0mkwargs\u001b[0m\u001b[1;33m)\u001b[0m\u001b[1;33m\u001b[0m\u001b[0m\n\u001b[0m\u001b[0;32m   2229\u001b[0m             \u001b[1;32mreturn\u001b[0m \u001b[0mresult\u001b[0m\u001b[1;33m\u001b[0m\u001b[0m\n\u001b[0;32m   2230\u001b[0m \u001b[1;33m\u001b[0m\u001b[0m\n",
      "\u001b[1;32mX:\\Winpython\\WinPython-64bit-2.7.10.2\\python-2.7.10.amd64\\lib\\site-packages\\IPython\\core\\magics\\execution.pyc\u001b[0m in \u001b[0;36mtimeit\u001b[1;34m(self, line, cell)\u001b[0m\n",
      "\u001b[1;32mX:\\Winpython\\WinPython-64bit-2.7.10.2\\python-2.7.10.amd64\\lib\\site-packages\\IPython\\core\\magic.pyc\u001b[0m in \u001b[0;36m<lambda>\u001b[1;34m(f, *a, **k)\u001b[0m\n\u001b[0;32m    191\u001b[0m     \u001b[1;31m# but it's overkill for just that one bit of state.\u001b[0m\u001b[1;33m\u001b[0m\u001b[1;33m\u001b[0m\u001b[0m\n\u001b[0;32m    192\u001b[0m     \u001b[1;32mdef\u001b[0m \u001b[0mmagic_deco\u001b[0m\u001b[1;33m(\u001b[0m\u001b[0marg\u001b[0m\u001b[1;33m)\u001b[0m\u001b[1;33m:\u001b[0m\u001b[1;33m\u001b[0m\u001b[0m\n\u001b[1;32m--> 193\u001b[1;33m         \u001b[0mcall\u001b[0m \u001b[1;33m=\u001b[0m \u001b[1;32mlambda\u001b[0m \u001b[0mf\u001b[0m\u001b[1;33m,\u001b[0m \u001b[1;33m*\u001b[0m\u001b[0ma\u001b[0m\u001b[1;33m,\u001b[0m \u001b[1;33m**\u001b[0m\u001b[0mk\u001b[0m\u001b[1;33m:\u001b[0m \u001b[0mf\u001b[0m\u001b[1;33m(\u001b[0m\u001b[1;33m*\u001b[0m\u001b[0ma\u001b[0m\u001b[1;33m,\u001b[0m \u001b[1;33m**\u001b[0m\u001b[0mk\u001b[0m\u001b[1;33m)\u001b[0m\u001b[1;33m\u001b[0m\u001b[0m\n\u001b[0m\u001b[0;32m    194\u001b[0m \u001b[1;33m\u001b[0m\u001b[0m\n\u001b[0;32m    195\u001b[0m         \u001b[1;32mif\u001b[0m \u001b[0mcallable\u001b[0m\u001b[1;33m(\u001b[0m\u001b[0marg\u001b[0m\u001b[1;33m)\u001b[0m\u001b[1;33m:\u001b[0m\u001b[1;33m\u001b[0m\u001b[0m\n",
      "\u001b[1;32mX:\\Winpython\\WinPython-64bit-2.7.10.2\\python-2.7.10.amd64\\lib\\site-packages\\IPython\\core\\magics\\execution.pyc\u001b[0m in \u001b[0;36mtimeit\u001b[1;34m(self, line, cell)\u001b[0m\n\u001b[0;32m   1034\u001b[0m             \u001b[0mnumber\u001b[0m \u001b[1;33m=\u001b[0m \u001b[1;36m1\u001b[0m\u001b[1;33m\u001b[0m\u001b[0m\n\u001b[0;32m   1035\u001b[0m             \u001b[1;32mfor\u001b[0m \u001b[0m_\u001b[0m \u001b[1;32min\u001b[0m \u001b[0mrange\u001b[0m\u001b[1;33m(\u001b[0m\u001b[1;36m1\u001b[0m\u001b[1;33m,\u001b[0m \u001b[1;36m10\u001b[0m\u001b[1;33m)\u001b[0m\u001b[1;33m:\u001b[0m\u001b[1;33m\u001b[0m\u001b[0m\n\u001b[1;32m-> 1036\u001b[1;33m                 \u001b[0mtime_number\u001b[0m \u001b[1;33m=\u001b[0m \u001b[0mtimer\u001b[0m\u001b[1;33m.\u001b[0m\u001b[0mtimeit\u001b[0m\u001b[1;33m(\u001b[0m\u001b[0mnumber\u001b[0m\u001b[1;33m)\u001b[0m\u001b[1;33m\u001b[0m\u001b[0m\n\u001b[0m\u001b[0;32m   1037\u001b[0m                 \u001b[0mworst_tuning\u001b[0m \u001b[1;33m=\u001b[0m \u001b[0mmax\u001b[0m\u001b[1;33m(\u001b[0m\u001b[0mworst_tuning\u001b[0m\u001b[1;33m,\u001b[0m \u001b[0mtime_number\u001b[0m \u001b[1;33m/\u001b[0m \u001b[0mnumber\u001b[0m\u001b[1;33m)\u001b[0m\u001b[1;33m\u001b[0m\u001b[0m\n\u001b[0;32m   1038\u001b[0m                 \u001b[1;32mif\u001b[0m \u001b[0mtime_number\u001b[0m \u001b[1;33m>=\u001b[0m \u001b[1;36m0.2\u001b[0m\u001b[1;33m:\u001b[0m\u001b[1;33m\u001b[0m\u001b[0m\n",
      "\u001b[1;32mX:\\Winpython\\WinPython-64bit-2.7.10.2\\python-2.7.10.amd64\\lib\\site-packages\\IPython\\core\\magics\\execution.pyc\u001b[0m in \u001b[0;36mtimeit\u001b[1;34m(self, number)\u001b[0m\n\u001b[0;32m    130\u001b[0m         \u001b[0mgc\u001b[0m\u001b[1;33m.\u001b[0m\u001b[0mdisable\u001b[0m\u001b[1;33m(\u001b[0m\u001b[1;33m)\u001b[0m\u001b[1;33m\u001b[0m\u001b[0m\n\u001b[0;32m    131\u001b[0m         \u001b[1;32mtry\u001b[0m\u001b[1;33m:\u001b[0m\u001b[1;33m\u001b[0m\u001b[0m\n\u001b[1;32m--> 132\u001b[1;33m             \u001b[0mtiming\u001b[0m \u001b[1;33m=\u001b[0m \u001b[0mself\u001b[0m\u001b[1;33m.\u001b[0m\u001b[0minner\u001b[0m\u001b[1;33m(\u001b[0m\u001b[0mit\u001b[0m\u001b[1;33m,\u001b[0m \u001b[0mself\u001b[0m\u001b[1;33m.\u001b[0m\u001b[0mtimer\u001b[0m\u001b[1;33m)\u001b[0m\u001b[1;33m\u001b[0m\u001b[0m\n\u001b[0m\u001b[0;32m    133\u001b[0m         \u001b[1;32mfinally\u001b[0m\u001b[1;33m:\u001b[0m\u001b[1;33m\u001b[0m\u001b[0m\n\u001b[0;32m    134\u001b[0m             \u001b[1;32mif\u001b[0m \u001b[0mgcold\u001b[0m\u001b[1;33m:\u001b[0m\u001b[1;33m\u001b[0m\u001b[0m\n",
      "\u001b[1;32m<magic-timeit>\u001b[0m in \u001b[0;36minner\u001b[1;34m(_it, _timer)\u001b[0m\n",
      "\u001b[1;32m_cython_magic_26728727f19e7625988a345bc9257b84.pyx\u001b[0m in \u001b[0;36m_cython_magic_26728727f19e7625988a345bc9257b84.csingle_unit_deltas (X:\\Winpython\\WinPython-64bit-2.7.10.2\\settings\\.ipython\\cython\\_cython_magic_26728727f19e7625988a345bc9257b84.c:2208)\u001b[1;34m()\u001b[0m\n",
      "\u001b[1;32m_cython_magic_26728727f19e7625988a345bc9257b84.pyx\u001b[0m in \u001b[0;36m_cython_magic_26728727f19e7625988a345bc9257b84.csingle_unit_deltas (X:\\Winpython\\WinPython-64bit-2.7.10.2\\settings\\.ipython\\cython\\_cython_magic_26728727f19e7625988a345bc9257b84.c:1971)\u001b[1;34m()\u001b[0m\n",
      "\u001b[1;31mTypeError\u001b[0m: only length-1 arrays can be converted to Python scalars"
     ]
    }
   ],
   "source": [
    "n_nodes,n_features = 100, 200\n",
    "Xi = np.random.rand(n_features)\n",
    "K = np.random.rand(n_nodes,n_features)\n",
    "infl = np.random.rand(n_nodes)\n",
    "eps=0.5\n",
    "%timeit single_unit_deltas(Xi,K,infl,n_nodes,eps)\n",
    "%timeit parallel_single_unit_deltas(Xi,K,infl,n_nodes,eps)\n",
    "%timeit mask_single_unit_deltas(Xi,K,infl,n_nodes,eps)"
   ]
  },
  {
   "cell_type": "code",
   "execution_count": null,
   "metadata": {
    "collapsed": true
   },
   "outputs": [],
   "source": []
  },
  {
   "cell_type": "code",
   "execution_count": 29,
   "metadata": {
    "collapsed": false
   },
   "outputs": [],
   "source": [
    "def batch_unit_deltas(Kohonen, kernel, X, normalized_X, kshape, \n",
    "                      n_samples, n_features, topology=\"rect\"):\n",
    "    # Initialize the dimensions\n",
    "    n_nodes = kshape[0] * kshape[1]\n",
    "\n",
    "    # Initilaize the sparse matrices\n",
    "    normalized_Kohonen = Normalizer().fit_transform(Kohonen)\n",
    "    unit_deltas = np.zeros((n_nodes,n_features), dtype=np.double)\n",
    "\n",
    "    for i in range(n_samples):\n",
    "        # Broadcasting the size of the sample over the first axis of K\n",
    "        sn = normalized_X[i,:]\n",
    "\n",
    "        # Get the location of the matching node for that sample assume rect map\n",
    "        node_index, sim= get_bmu(normalized_Kohonen, sn)\n",
    "        x = np.divide(node_index, kshape[1]).astype('int')\n",
    "        y = node_index % kshape[1]\n",
    "        # Train all units at once by unfolding the kernel\n",
    "        infl =_fast_unfold_kernel(x,y, kernel, kshape)\n",
    "        #mask = infl>0.01\n",
    "        # Update the single interation delta as infl[j]*(X[i]-K[j])\n",
    "\n",
    "        \n",
    "        deltas = (X[i,:] - Kohonen)*infl[:,np.newaxis]\n",
    "        #matrix_repr = sparse.rand(n_nodes,n_features).tocsr()\n",
    "        unit_deltas += deltas\n",
    "    return unit_deltas"
   ]
  },
  {
   "cell_type": "code",
   "execution_count": 30,
   "metadata": {
    "collapsed": false
   },
   "outputs": [
    {
     "name": "stdout",
     "output_type": "stream",
     "text": [
      "The slowest run took 4.33 times longer than the fastest. This could mean that an intermediate result is being cached \n",
      "100 loops, best of 3: 4.47 ms per loop\n"
     ]
    }
   ],
   "source": [
    "# Testing the batch deltas\n",
    "n_samples = 60\n",
    "n_features = 100\n",
    "kshape=[10,10]\n",
    "n_nodes = kshape[0]*kshape[1]\n",
    "K = np.random.rand(n_nodes,n_features)\n",
    "\n",
    "X = np.random.rand(n_samples,n_features)\n",
    "kernel = np.fromfunction(lambda x,y: (x**2+y**2)**0.5,\n",
    "                                kshape, dtype='float')\n",
    "normalized_X=Normalizer().fit_transform(X)\n",
    "%timeit batch_unit_deltas(K, kernel, X, normalized_X,kshape, n_samples, n_features)"
   ]
  },
  {
   "cell_type": "code",
   "execution_count": 31,
   "metadata": {
    "collapsed": true
   },
   "outputs": [],
   "source": [
    "PARAM = {\"kshape\":(10,10),\n",
    "         \"learning_rate\":0.005,\n",
    "         \"n_iter\": 100}\n",
    "\n",
    "def fit(X, y=None):\n",
    "    # Initialize the parameters\n",
    "    kshape = PARAM[\"kshape\"]\n",
    "    learning_rate = PARAM[\"learning_rate\"]\n",
    "    n_iter =PARAM[\"n_iter\"]\n",
    "    _dqd = np.fromfunction(lambda x,y: (x**2+y**2)**0.5,\n",
    "                                kshape, dtype='float')\n",
    "    radius = np.max(kshape)\n",
    "    iter_scale = n_iter / np.log(radius)\n",
    "    n_samples, n_features = X.shape\n",
    "    n_nodes = kshape[0]*kshape[1]\n",
    "    \n",
    "    Kohonen=init_kohonen(n_nodes,n_features)\n",
    "    X=init_sample(X)\n",
    "    normalized_X = Normalizer().fit_transform(X) \n",
    "    \n",
    "    for it in np.arange(n_iter):\n",
    "        #print it\n",
    "        kernel = _compute_influence_kernel(it+1, _dqd, iter_scale, radius, learning_rate)\n",
    "        unit_deltas = batch_unit_deltas(Kohonen,kernel,X,normalized_X,\n",
    "                                        kshape, n_samples, n_features)\n",
    "        Kohonen = Kohonen + unit_deltas\n",
    "    return Kohonen"
   ]
  },
  {
   "cell_type": "code",
   "execution_count": 32,
   "metadata": {
    "collapsed": false
   },
   "outputs": [
    {
     "name": "stdout",
     "output_type": "stream",
     "text": [
      "1 loops, best of 3: 444 ms per loop\n"
     ]
    }
   ],
   "source": [
    "%timeit fit(X)"
   ]
  },
  {
   "cell_type": "code",
   "execution_count": 33,
   "metadata": {
    "collapsed": false
   },
   "outputs": [],
   "source": [
    "%lprun -f batch_unit_deltas fit(tfidf.todense())"
   ]
  },
  {
   "cell_type": "code",
   "execution_count": 34,
   "metadata": {
    "collapsed": false
   },
   "outputs": [
    {
     "name": "stdout",
     "output_type": "stream",
     "text": [
      "NOTE: %mprun can only be used on functions defined in physical files, and not in the IPython environment.\n",
      "NOTE: %mprun can only be used on functions defined in physical files, and not in the IPython environment.\n",
      "('',)\n"
     ]
    }
   ],
   "source": [
    "%mprun -f fit fit(tfidf.todense())"
   ]
  },
  {
   "cell_type": "code",
   "execution_count": 53,
   "metadata": {
    "collapsed": true
   },
   "outputs": [],
   "source": [
    "from core.som.som import SOMMapper"
   ]
  },
  {
   "cell_type": "code",
   "execution_count": 54,
   "metadata": {
    "collapsed": false
   },
   "outputs": [
    {
     "data": {
      "text/plain": [
       "array([[ 0.47806765,  0.31819147,  0.52372011, ...,  0.51789477,\n",
       "         0.48100518,  0.62002412],\n",
       "       [ 0.4679838 ,  0.29473327,  0.50658282, ...,  0.51836776,\n",
       "         0.47808813,  0.60486168],\n",
       "       [ 0.47655239,  0.28239845,  0.49228145, ...,  0.52026115,\n",
       "         0.46654257,  0.57787827],\n",
       "       ..., \n",
       "       [ 0.50631696,  0.46472572,  0.39193239, ...,  0.52007885,\n",
       "         0.41323179,  0.36072235],\n",
       "       [ 0.4968361 ,  0.45944518,  0.39789903, ...,  0.53417787,\n",
       "         0.38839258,  0.3445815 ],\n",
       "       [ 0.48863907,  0.45479111,  0.38857714, ...,  0.537414  ,\n",
       "         0.3846322 ,  0.32712767]])"
      ]
     },
     "execution_count": 54,
     "metadata": {},
     "output_type": "execute_result"
    }
   ],
   "source": [
    "mapper= SOMMapper(**PARAM)\n",
    "mapper.fit_transform(X)"
   ]
  },
  {
   "cell_type": "code",
   "execution_count": 55,
   "metadata": {
    "collapsed": false
   },
   "outputs": [
    {
     "ename": "ValueError",
     "evalue": "shapes (100,138) and (100,1) not aligned: 138 (dim 1) != 100 (dim 0)",
     "output_type": "error",
     "traceback": [
      "\u001b[1;31m---------------------------------------------------------------------------\u001b[0m",
      "\u001b[1;31mValueError\u001b[0m                                Traceback (most recent call last)",
      "\u001b[1;32m<ipython-input-55-d2327a866b9c>\u001b[0m in \u001b[0;36m<module>\u001b[1;34m()\u001b[0m\n\u001b[1;32m----> 1\u001b[1;33m \u001b[0mget_ipython\u001b[0m\u001b[1;33m(\u001b[0m\u001b[1;33m)\u001b[0m\u001b[1;33m.\u001b[0m\u001b[0mmagic\u001b[0m\u001b[1;33m(\u001b[0m\u001b[1;34mu'mprun -f fit mapper.fit_transform(tfidf.todense())'\u001b[0m\u001b[1;33m)\u001b[0m\u001b[1;33m\u001b[0m\u001b[0m\n\u001b[0m",
      "\u001b[1;32mX:\\Winpython\\WinPython-64bit-2.7.10.2\\python-2.7.10.amd64\\lib\\site-packages\\IPython\\core\\interactiveshell.pyc\u001b[0m in \u001b[0;36mmagic\u001b[1;34m(self, arg_s)\u001b[0m\n\u001b[0;32m   2305\u001b[0m         \u001b[0mmagic_name\u001b[0m\u001b[1;33m,\u001b[0m \u001b[0m_\u001b[0m\u001b[1;33m,\u001b[0m \u001b[0mmagic_arg_s\u001b[0m \u001b[1;33m=\u001b[0m \u001b[0marg_s\u001b[0m\u001b[1;33m.\u001b[0m\u001b[0mpartition\u001b[0m\u001b[1;33m(\u001b[0m\u001b[1;34m' '\u001b[0m\u001b[1;33m)\u001b[0m\u001b[1;33m\u001b[0m\u001b[0m\n\u001b[0;32m   2306\u001b[0m         \u001b[0mmagic_name\u001b[0m \u001b[1;33m=\u001b[0m \u001b[0mmagic_name\u001b[0m\u001b[1;33m.\u001b[0m\u001b[0mlstrip\u001b[0m\u001b[1;33m(\u001b[0m\u001b[0mprefilter\u001b[0m\u001b[1;33m.\u001b[0m\u001b[0mESC_MAGIC\u001b[0m\u001b[1;33m)\u001b[0m\u001b[1;33m\u001b[0m\u001b[0m\n\u001b[1;32m-> 2307\u001b[1;33m         \u001b[1;32mreturn\u001b[0m \u001b[0mself\u001b[0m\u001b[1;33m.\u001b[0m\u001b[0mrun_line_magic\u001b[0m\u001b[1;33m(\u001b[0m\u001b[0mmagic_name\u001b[0m\u001b[1;33m,\u001b[0m \u001b[0mmagic_arg_s\u001b[0m\u001b[1;33m)\u001b[0m\u001b[1;33m\u001b[0m\u001b[0m\n\u001b[0m\u001b[0;32m   2308\u001b[0m \u001b[1;33m\u001b[0m\u001b[0m\n\u001b[0;32m   2309\u001b[0m     \u001b[1;31m#-------------------------------------------------------------------------\u001b[0m\u001b[1;33m\u001b[0m\u001b[1;33m\u001b[0m\u001b[0m\n",
      "\u001b[1;32mX:\\Winpython\\WinPython-64bit-2.7.10.2\\python-2.7.10.amd64\\lib\\site-packages\\IPython\\core\\interactiveshell.pyc\u001b[0m in \u001b[0;36mrun_line_magic\u001b[1;34m(self, magic_name, line)\u001b[0m\n\u001b[0;32m   2226\u001b[0m                 \u001b[0mkwargs\u001b[0m\u001b[1;33m[\u001b[0m\u001b[1;34m'local_ns'\u001b[0m\u001b[1;33m]\u001b[0m \u001b[1;33m=\u001b[0m \u001b[0msys\u001b[0m\u001b[1;33m.\u001b[0m\u001b[0m_getframe\u001b[0m\u001b[1;33m(\u001b[0m\u001b[0mstack_depth\u001b[0m\u001b[1;33m)\u001b[0m\u001b[1;33m.\u001b[0m\u001b[0mf_locals\u001b[0m\u001b[1;33m\u001b[0m\u001b[0m\n\u001b[0;32m   2227\u001b[0m             \u001b[1;32mwith\u001b[0m \u001b[0mself\u001b[0m\u001b[1;33m.\u001b[0m\u001b[0mbuiltin_trap\u001b[0m\u001b[1;33m:\u001b[0m\u001b[1;33m\u001b[0m\u001b[0m\n\u001b[1;32m-> 2228\u001b[1;33m                 \u001b[0mresult\u001b[0m \u001b[1;33m=\u001b[0m \u001b[0mfn\u001b[0m\u001b[1;33m(\u001b[0m\u001b[1;33m*\u001b[0m\u001b[0margs\u001b[0m\u001b[1;33m,\u001b[0m\u001b[1;33m**\u001b[0m\u001b[0mkwargs\u001b[0m\u001b[1;33m)\u001b[0m\u001b[1;33m\u001b[0m\u001b[0m\n\u001b[0m\u001b[0;32m   2229\u001b[0m             \u001b[1;32mreturn\u001b[0m \u001b[0mresult\u001b[0m\u001b[1;33m\u001b[0m\u001b[0m\n\u001b[0;32m   2230\u001b[0m \u001b[1;33m\u001b[0m\u001b[0m\n",
      "\u001b[1;32mX:\\Winpython\\WinPython-64bit-2.7.10.2\\python-2.7.10.amd64\\lib\\site-packages\\memory_profiler.pyc\u001b[0m in \u001b[0;36mmagic_mprun\u001b[1;34m(self, parameter_s)\u001b[0m\n\u001b[0;32m    677\u001b[0m     \u001b[1;32mtry\u001b[0m\u001b[1;33m:\u001b[0m\u001b[1;33m\u001b[0m\u001b[0m\n\u001b[0;32m    678\u001b[0m         \u001b[1;32mtry\u001b[0m\u001b[1;33m:\u001b[0m\u001b[1;33m\u001b[0m\u001b[0m\n\u001b[1;32m--> 679\u001b[1;33m             \u001b[0mprofile\u001b[0m\u001b[1;33m.\u001b[0m\u001b[0mrunctx\u001b[0m\u001b[1;33m(\u001b[0m\u001b[0marg_str\u001b[0m\u001b[1;33m,\u001b[0m \u001b[0mglobal_ns\u001b[0m\u001b[1;33m,\u001b[0m \u001b[0mlocal_ns\u001b[0m\u001b[1;33m)\u001b[0m\u001b[1;33m\u001b[0m\u001b[0m\n\u001b[0m\u001b[0;32m    680\u001b[0m             \u001b[0mmessage\u001b[0m \u001b[1;33m=\u001b[0m \u001b[1;34m''\u001b[0m\u001b[1;33m\u001b[0m\u001b[0m\n\u001b[0;32m    681\u001b[0m         \u001b[1;32mexcept\u001b[0m \u001b[0mSystemExit\u001b[0m\u001b[1;33m:\u001b[0m\u001b[1;33m\u001b[0m\u001b[0m\n",
      "\u001b[1;32mX:\\Winpython\\WinPython-64bit-2.7.10.2\\python-2.7.10.amd64\\lib\\site-packages\\memory_profiler.pyc\u001b[0m in \u001b[0;36mrunctx\u001b[1;34m(self, cmd, globals, locals)\u001b[0m\n\u001b[0;32m    464\u001b[0m         \u001b[0mself\u001b[0m\u001b[1;33m.\u001b[0m\u001b[0menable_by_count\u001b[0m\u001b[1;33m(\u001b[0m\u001b[1;33m)\u001b[0m\u001b[1;33m\u001b[0m\u001b[0m\n\u001b[0;32m    465\u001b[0m         \u001b[1;32mtry\u001b[0m\u001b[1;33m:\u001b[0m\u001b[1;33m\u001b[0m\u001b[0m\n\u001b[1;32m--> 466\u001b[1;33m             \u001b[1;32mexec\u001b[0m\u001b[1;33m(\u001b[0m\u001b[0mcmd\u001b[0m\u001b[1;33m,\u001b[0m \u001b[0mglobals\u001b[0m\u001b[1;33m,\u001b[0m \u001b[0mlocals\u001b[0m\u001b[1;33m)\u001b[0m\u001b[1;33m\u001b[0m\u001b[0m\n\u001b[0m\u001b[0;32m    467\u001b[0m         \u001b[1;32mfinally\u001b[0m\u001b[1;33m:\u001b[0m\u001b[1;33m\u001b[0m\u001b[0m\n\u001b[0;32m    468\u001b[0m             \u001b[0mself\u001b[0m\u001b[1;33m.\u001b[0m\u001b[0mdisable_by_count\u001b[0m\u001b[1;33m(\u001b[0m\u001b[1;33m)\u001b[0m\u001b[1;33m\u001b[0m\u001b[0m\n",
      "\u001b[1;32m<string>\u001b[0m in \u001b[0;36m<module>\u001b[1;34m()\u001b[0m\n",
      "\u001b[1;32mX:\\husser\\Code\\Python\\NeuralNetworks\\core\\som\\som.py\u001b[0m in \u001b[0;36mfit_transform\u001b[1;34m(self, X)\u001b[0m\n\u001b[0;32m    138\u001b[0m             \u001b[1;32mas\u001b[0m \u001b[1;32min\u001b[0m \u001b[0mthe\u001b[0m \u001b[0mOUTPUT\u001b[0m \u001b[0mspace\u001b[0m \u001b[1;33m(\u001b[0m\u001b[0minter\u001b[0m \u001b[0mnode\u001b[0m \u001b[0mdistance\u001b[0m\u001b[1;33m)\u001b[0m\u001b[1;33m\u001b[0m\u001b[0m\n\u001b[0;32m    139\u001b[0m         \"\"\"\n\u001b[1;32m--> 140\u001b[1;33m         \u001b[0mself\u001b[0m\u001b[1;33m.\u001b[0m\u001b[0mfit\u001b[0m\u001b[1;33m(\u001b[0m\u001b[0mX\u001b[0m\u001b[1;33m,\u001b[0m \u001b[0my\u001b[0m \u001b[1;33m=\u001b[0m \u001b[0mNone\u001b[0m\u001b[1;33m,\u001b[0m \u001b[0msurvey\u001b[0m \u001b[1;33m=\u001b[0m \u001b[0mFalse\u001b[0m\u001b[1;33m)\u001b[0m\u001b[1;33m\u001b[0m\u001b[0m\n\u001b[0m\u001b[0;32m    141\u001b[0m         \u001b[1;32mreturn\u001b[0m \u001b[0mself\u001b[0m\u001b[1;33m.\u001b[0m\u001b[0mK_\u001b[0m\u001b[1;33m\u001b[0m\u001b[0m\n\u001b[0;32m    142\u001b[0m \u001b[1;33m\u001b[0m\u001b[0m\n",
      "\u001b[1;32mX:\\husser\\Code\\Python\\NeuralNetworks\\core\\som\\som.py\u001b[0m in \u001b[0;36mfit\u001b[1;34m(self, X, y, K_init, survey)\u001b[0m\n\u001b[0;32m     96\u001b[0m             \u001b[0mkernel\u001b[0m \u001b[1;33m=\u001b[0m \u001b[0m_compute_influence_kernel\u001b[0m\u001b[1;33m(\u001b[0m\u001b[0mit\u001b[0m\u001b[1;33m+\u001b[0m\u001b[1;36m1\u001b[0m\u001b[1;33m,\u001b[0m \u001b[0mself\u001b[0m\u001b[1;33m.\u001b[0m\u001b[0m_dqd\u001b[0m\u001b[1;33m,\u001b[0m \u001b[0mself\u001b[0m\u001b[1;33m.\u001b[0m\u001b[0miter_scale\u001b[0m\u001b[1;33m,\u001b[0m \u001b[0mself\u001b[0m\u001b[1;33m.\u001b[0m\u001b[0mradius\u001b[0m\u001b[1;33m,\u001b[0m \u001b[0mself\u001b[0m\u001b[1;33m.\u001b[0m\u001b[0mlearning_rate\u001b[0m\u001b[1;33m)\u001b[0m\u001b[1;33m\u001b[0m\u001b[0m\n\u001b[0;32m     97\u001b[0m             unit_deltas = batch_unit_deltas(self.K_,kernel,X,normalized_X,\n\u001b[1;32m---> 98\u001b[1;33m                                             self.kshape, n_samples, n_features)\n\u001b[0m\u001b[0;32m     99\u001b[0m             \u001b[0mself\u001b[0m\u001b[1;33m.\u001b[0m\u001b[0mK_\u001b[0m \u001b[1;33m+=\u001b[0m \u001b[0munit_deltas\u001b[0m\u001b[1;33m\u001b[0m\u001b[0m\n\u001b[0;32m    100\u001b[0m \u001b[1;33m\u001b[0m\u001b[0m\n",
      "\u001b[1;32mX:\\husser\\Code\\Python\\NeuralNetworks\\core\\som\\som.py\u001b[0m in \u001b[0;36mbatch_unit_deltas\u001b[1;34m(Kohonen, kernel, X, normalized_X, kshape, n_samples, n_features, topology)\u001b[0m\n\u001b[0;32m    196\u001b[0m \u001b[1;33m\u001b[0m\u001b[0m\n\u001b[0;32m    197\u001b[0m \u001b[1;33m\u001b[0m\u001b[0m\n\u001b[1;32m--> 198\u001b[1;33m         \u001b[0mdeltas\u001b[0m \u001b[1;33m=\u001b[0m \u001b[1;33m(\u001b[0m\u001b[0mX\u001b[0m\u001b[1;33m[\u001b[0m\u001b[0mi\u001b[0m\u001b[1;33m,\u001b[0m\u001b[1;33m:\u001b[0m\u001b[1;33m]\u001b[0m \u001b[1;33m-\u001b[0m \u001b[0mKohonen\u001b[0m\u001b[1;33m)\u001b[0m\u001b[1;33m*\u001b[0m\u001b[0minfl\u001b[0m\u001b[1;33m[\u001b[0m\u001b[1;33m:\u001b[0m\u001b[1;33m,\u001b[0m\u001b[0mnp\u001b[0m\u001b[1;33m.\u001b[0m\u001b[0mnewaxis\u001b[0m\u001b[1;33m]\u001b[0m\u001b[1;33m\u001b[0m\u001b[0m\n\u001b[0m\u001b[0;32m    199\u001b[0m         \u001b[1;31m#matrix_repr = sparse.rand(n_nodes,n_features).tocsr()\u001b[0m\u001b[1;33m\u001b[0m\u001b[1;33m\u001b[0m\u001b[0m\n\u001b[0;32m    200\u001b[0m         \u001b[0munit_deltas\u001b[0m \u001b[1;33m+=\u001b[0m \u001b[0mdeltas\u001b[0m\u001b[1;33m\u001b[0m\u001b[0m\n",
      "\u001b[1;32mX:\\Winpython\\WinPython-64bit-2.7.10.2\\python-2.7.10.amd64\\lib\\site-packages\\numpy\\matrixlib\\defmatrix.pyc\u001b[0m in \u001b[0;36m__mul__\u001b[1;34m(self, other)\u001b[0m\n\u001b[0;32m    339\u001b[0m         \u001b[1;32mif\u001b[0m \u001b[0misinstance\u001b[0m\u001b[1;33m(\u001b[0m\u001b[0mother\u001b[0m\u001b[1;33m,\u001b[0m \u001b[1;33m(\u001b[0m\u001b[0mN\u001b[0m\u001b[1;33m.\u001b[0m\u001b[0mndarray\u001b[0m\u001b[1;33m,\u001b[0m \u001b[0mlist\u001b[0m\u001b[1;33m,\u001b[0m \u001b[0mtuple\u001b[0m\u001b[1;33m)\u001b[0m\u001b[1;33m)\u001b[0m \u001b[1;33m:\u001b[0m\u001b[1;33m\u001b[0m\u001b[0m\n\u001b[0;32m    340\u001b[0m             \u001b[1;31m# This promotes 1-D vectors to row vectors\u001b[0m\u001b[1;33m\u001b[0m\u001b[1;33m\u001b[0m\u001b[0m\n\u001b[1;32m--> 341\u001b[1;33m             \u001b[1;32mreturn\u001b[0m \u001b[0mN\u001b[0m\u001b[1;33m.\u001b[0m\u001b[0mdot\u001b[0m\u001b[1;33m(\u001b[0m\u001b[0mself\u001b[0m\u001b[1;33m,\u001b[0m \u001b[0masmatrix\u001b[0m\u001b[1;33m(\u001b[0m\u001b[0mother\u001b[0m\u001b[1;33m)\u001b[0m\u001b[1;33m)\u001b[0m\u001b[1;33m\u001b[0m\u001b[0m\n\u001b[0m\u001b[0;32m    342\u001b[0m         \u001b[1;32mif\u001b[0m \u001b[0misscalar\u001b[0m\u001b[1;33m(\u001b[0m\u001b[0mother\u001b[0m\u001b[1;33m)\u001b[0m \u001b[1;32mor\u001b[0m \u001b[1;32mnot\u001b[0m \u001b[0mhasattr\u001b[0m\u001b[1;33m(\u001b[0m\u001b[0mother\u001b[0m\u001b[1;33m,\u001b[0m \u001b[1;34m'__rmul__'\u001b[0m\u001b[1;33m)\u001b[0m \u001b[1;33m:\u001b[0m\u001b[1;33m\u001b[0m\u001b[0m\n\u001b[0;32m    343\u001b[0m             \u001b[1;32mreturn\u001b[0m \u001b[0mN\u001b[0m\u001b[1;33m.\u001b[0m\u001b[0mdot\u001b[0m\u001b[1;33m(\u001b[0m\u001b[0mself\u001b[0m\u001b[1;33m,\u001b[0m \u001b[0mother\u001b[0m\u001b[1;33m)\u001b[0m\u001b[1;33m\u001b[0m\u001b[0m\n",
      "\u001b[1;31mValueError\u001b[0m: shapes (100,138) and (100,1) not aligned: 138 (dim 1) != 100 (dim 0)"
     ]
    }
   ],
   "source": [
    "%mprun -f fit mapper.fit_transform(tfidf.todense())"
   ]
  },
  {
   "cell_type": "code",
   "execution_count": null,
   "metadata": {
    "collapsed": true
   },
   "outputs": [],
   "source": []
  }
 ],
 "metadata": {
  "kernelspec": {
   "display_name": "Python 2",
   "language": "python",
   "name": "python2"
  },
  "language_info": {
   "codemirror_mode": {
    "name": "ipython",
    "version": 2
   },
   "file_extension": ".py",
   "mimetype": "text/x-python",
   "name": "python",
   "nbconvert_exporter": "python",
   "pygments_lexer": "ipython2",
   "version": "2.7.6"
  }
 },
 "nbformat": 4,
 "nbformat_minor": 0
}
